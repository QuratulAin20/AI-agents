{
  "nbformat": 4,
  "nbformat_minor": 0,
  "metadata": {
    "colab": {
      "provenance": [],
      "authorship_tag": "ABX9TyMLiZO+zslfHYhgohwOUOu5",
      "include_colab_link": true
    },
    "kernelspec": {
      "name": "python3",
      "display_name": "Python 3"
    },
    "language_info": {
      "name": "python"
    }
  },
  "cells": [
    {
      "cell_type": "markdown",
      "metadata": {
        "id": "view-in-github",
        "colab_type": "text"
      },
      "source": [
        "<a href=\"https://colab.research.google.com/github/QuratulAin20/AI-agents/blob/main/Reflexion_AI_agent.ipynb\" target=\"_parent\"><img src=\"https://colab.research.google.com/assets/colab-badge.svg\" alt=\"Open In Colab\"/></a>"
      ]
    },
    {
      "cell_type": "markdown",
      "source": [
        "# Reflexion agent\n",
        "It address the drawback of reflection system i.e\n",
        "1. In reflection system the refelction is not grounded in live data, it just the result of llm prompting mean we are only relying on training data of LLM.\n",
        "2. This can cause hallucination or we can get out dated content.\n",
        "\n",
        "An architecture designed to learn through verbal feedback and self-reflection.\n",
        "where as basic reflection agent only learn through self-assessing not by verbal feedback.\n",
        "\n",
        "- verbal feedback mean critics response base upon external data sources by using APIs.\n",
        "\n",
        "### Component of Reflexion agent\n",
        "1. `Actor` agent with self reflection a main component that derive everything.\n",
        "##### Sub-component of actor\n",
        "  1. `external evaluator` an external tool for verbal feedback.\n",
        "  2. `intial responder` generates an initial response and self-reflect.\n",
        "  3. `revisor` re-respond and reflect based upon the previous reflection.\n",
        "\n",
        "2. Second main component of Reflexion agent is `episodic memory` aim to recall past interaction, events or experiences make agent more context-awared.\n",
        "\n",
        "\n",
        "The `actor agent` explicitly critiques each response and grounds its criticism in external data. It is forced to generate citations and explicitly enumerate superfluous(something that is unnecessary or excessive) and missing aspects of the generated response. This makes the content of the reflections more constructive and better steers the generator in responding to the feedback.\n",
        "\n",
        "### Working or conversational flow\n",
        "1. the first node is our first responder i.e, draft. It generate a response.\n",
        "2. Initial response has 3 properties to check\n",
        "  i. response : have initial response\n",
        "  ii. critique: have self criticism on response\n",
        "  iii. search: Contain certain keyword for search\n",
        "3. Now we have initial reponse and ready to send it to external tool.\n",
        "3. We have both initial response and external data ready next send it to another agent i.e rivisor.\n",
        "4. Revisor look through the initial response and live data and then generate revise reponse.\n",
        "5. Revise response contain 4 properties\n",
        "  i. revise reponse\n",
        "  ii. revise critic\n",
        "  iii. revise search\n",
        "  iv. citation\n",
        "  \n",
        "  If it is according to desired reponse then it generate output, otherwise it will send back to execution tool for further enhancement till n-times.\n",
        "\n",
        "### code\n",
        "```python\n",
        "\n",
        "from langgraph.graph import END, MessageGraph\n",
        "\n",
        "MAX_ITERATIONS = 5\n",
        "builder = MessageGraph()\n",
        "builder.add_node(\"draft\", first_responder.respond)\n",
        "builder.add_node(\"execute_tools\", execute_tools)\n",
        "builder.add_node(\"revise\", revisor.respond)\n",
        "# draft -> execute_tools\n",
        "builder.add_edge(\"draft\", \"execute_tools\")\n",
        "# execute_tools -> revise\n",
        "builder.add_edge(\"execute_tools\", \"revise\")\n",
        "\n",
        "# Define looping logic:\n",
        "def event_loop(state: List[BaseMessage]) -> str:\n",
        "    # in our case, we'll just stop after N plans\n",
        "    num_iterations = _get_num_iterations(state)\n",
        "    if num_iterations > MAX_ITERATIONS:\n",
        "        return END\n",
        "    return \"execute_tools\"\n",
        "\n",
        "\n",
        "# revise -> execute_tools OR end\n",
        "builder.add_conditional_edges(\"revise\", event_loop)\n",
        "builder.set_entry_point(\"draft\")\n",
        "graph = builder.compile()\n",
        "\n",
        "```\n",
        "\n"
      ],
      "metadata": {
        "id": "c3K5wFflv3DP"
      }
    },
    {
      "cell_type": "markdown",
      "source": [
        "# Building a Reflexion AI agent architecture"
      ],
      "metadata": {
        "id": "t5GkNtAR32wZ"
      }
    },
    {
      "cell_type": "code",
      "execution_count": 1,
      "metadata": {
        "colab": {
          "base_uri": "https://localhost:8080/"
        },
        "id": "3qlGdOa9uV1C",
        "outputId": "245141b4-b1d4-48e5-fb2d-370e64964908"
      },
      "outputs": [
        {
          "output_type": "stream",
          "name": "stdout",
          "text": [
            "\u001b[2K     \u001b[90m━━━━━━━━━━━━━━━━━━━━━━━━━━━━━━━━━━━━━━━━\u001b[0m \u001b[32m43.5/43.5 kB\u001b[0m \u001b[31m1.1 MB/s\u001b[0m eta \u001b[36m0:00:00\u001b[0m\n",
            "\u001b[2K   \u001b[90m━━━━━━━━━━━━━━━━━━━━━━━━━━━━━━━━━━━━━━━━\u001b[0m \u001b[32m151.2/151.2 kB\u001b[0m \u001b[31m4.7 MB/s\u001b[0m eta \u001b[36m0:00:00\u001b[0m\n",
            "\u001b[2K   \u001b[90m━━━━━━━━━━━━━━━━━━━━━━━━━━━━━━━━━━━━━━━━\u001b[0m \u001b[32m42.3/42.3 kB\u001b[0m \u001b[31m1.7 MB/s\u001b[0m eta \u001b[36m0:00:00\u001b[0m\n",
            "\u001b[2K   \u001b[90m━━━━━━━━━━━━━━━━━━━━━━━━━━━━━━━━━━━━━━━━\u001b[0m \u001b[32m47.6/47.6 kB\u001b[0m \u001b[31m1.6 MB/s\u001b[0m eta \u001b[36m0:00:00\u001b[0m\n",
            "\u001b[2K   \u001b[90m━━━━━━━━━━━━━━━━━━━━━━━━━━━━━━━━━━━━━━━━\u001b[0m \u001b[32m194.8/194.8 kB\u001b[0m \u001b[31m12.7 MB/s\u001b[0m eta \u001b[36m0:00:00\u001b[0m\n",
            "\u001b[2K   \u001b[90m━━━━━━━━━━━━━━━━━━━━━━━━━━━━━━━━━━━━━━━━\u001b[0m \u001b[32m223.6/223.6 kB\u001b[0m \u001b[31m9.7 MB/s\u001b[0m eta \u001b[36m0:00:00\u001b[0m\n",
            "\u001b[2K   \u001b[90m━━━━━━━━━━━━━━━━━━━━━━━━━━━━━━━━━━━━━━━━\u001b[0m \u001b[32m1.2/1.2 MB\u001b[0m \u001b[31m32.2 MB/s\u001b[0m eta \u001b[36m0:00:00\u001b[0m\n",
            "\u001b[2K   \u001b[90m━━━━━━━━━━━━━━━━━━━━━━━━━━━━━━━━━━━━━━━━\u001b[0m \u001b[32m127.5/127.5 kB\u001b[0m \u001b[31m7.8 MB/s\u001b[0m eta \u001b[36m0:00:00\u001b[0m\n",
            "\u001b[2K   \u001b[90m━━━━━━━━━━━━━━━━━━━━━━━━━━━━━━━━━━━━━━━━\u001b[0m \u001b[32m2.5/2.5 MB\u001b[0m \u001b[31m68.2 MB/s\u001b[0m eta \u001b[36m0:00:00\u001b[0m\n",
            "\u001b[2K   \u001b[90m━━━━━━━━━━━━━━━━━━━━━━━━━━━━━━━━━━━━━━━━\u001b[0m \u001b[32m44.4/44.4 kB\u001b[0m \u001b[31m2.8 MB/s\u001b[0m eta \u001b[36m0:00:00\u001b[0m\n",
            "\u001b[2K   \u001b[90m━━━━━━━━━━━━━━━━━━━━━━━━━━━━━━━━━━━━━━━━\u001b[0m \u001b[32m50.9/50.9 kB\u001b[0m \u001b[31m3.6 MB/s\u001b[0m eta \u001b[36m0:00:00\u001b[0m\n",
            "\u001b[?25h"
          ]
        }
      ],
      "source": [
        "%pip install -U --quiet  langgraph\n",
        "%pip install -U --quiet tavily-python\n",
        "%pip install -qU langchain-groq\n",
        "%pip install -U --quiet langchain_community"
      ]
    },
    {
      "cell_type": "code",
      "source": [
        "import getpass\n",
        "import os\n",
        "\n",
        "\n",
        "def _set_if_undefined(var: str) -> None:\n",
        "    if os.environ.get(var):\n",
        "        return\n",
        "    os.environ[var] = getpass.getpass(var)\n",
        "\n",
        "\n",
        "_set_if_undefined(\"TAVILY_API_KEY\")\n",
        "_set_if_undefined(\"GROQ_API_KEY\")"
      ],
      "metadata": {
        "colab": {
          "base_uri": "https://localhost:8080/"
        },
        "id": "jm14sj9Q4YjY",
        "outputId": "07e28fbf-e503-47e6-8d63-b5b6099df978"
      },
      "execution_count": 2,
      "outputs": [
        {
          "name": "stdout",
          "output_type": "stream",
          "text": [
            "TAVILY_API_KEY··········\n",
            "GROQ_API_KEY··········\n"
          ]
        }
      ]
    },
    {
      "cell_type": "code",
      "source": [
        "# Define LLM\n",
        "from langchain_groq import ChatGroq\n",
        "\n",
        "llm = ChatGroq(\n",
        "    model=\"llama-3.3-70b-versatile\",\n",
        "    temperature=0.5,\n",
        "    max_tokens=500,\n",
        "    timeout=None,\n",
        "    max_retries=2,\n",
        ")"
      ],
      "metadata": {
        "id": "M8F-yBNS4kXL"
      },
      "execution_count": 3,
      "outputs": []
    },
    {
      "cell_type": "markdown",
      "source": [
        "# Actor (with reflection)\n",
        "\n",
        "The main component of Reflexion is the \"actor\", which is an agent that reflects on its response and re-executes to improve based on self-critique. It's main sub-components include:\n",
        "\n",
        "- Tools/tool execution\n",
        "- Initial responder: generate an initial response (and self-reflection)\n",
        "- Revisor: re-respond (and reflec) based on previous reflections\n",
        "\n",
        "We'll first define the tool execution context."
      ],
      "metadata": {
        "id": "V1epATWR5HWa"
      }
    },
    {
      "cell_type": "code",
      "source": [
        "# contructing tool, here we are using Tavily, we can also use wikipedia or arxiv\n",
        "\n",
        "\n",
        "from langchain_community.tools.tavily_search import TavilySearchResults\n",
        "from langchain_community.utilities.tavily_search import TavilySearchAPIWrapper\n",
        "\n",
        "search = TavilySearchAPIWrapper()\n",
        "tavily_tool = TavilySearchResults(api_wrapper=search, max_results=5)"
      ],
      "metadata": {
        "id": "f1fcvn-447Up"
      },
      "execution_count": 4,
      "outputs": []
    },
    {
      "cell_type": "code",
      "source": [
        "# defining initial responder, here we are using pydantic from langchain as a validator. so we have AI responder with `reflection` and `validator` both\n",
        "\n",
        "from langchain_core.messages import HumanMessage, ToolMessage\n",
        "from langchain_core.output_parsers.openai_tools import PydanticToolsParser\n",
        "from langchain_core.prompts import ChatPromptTemplate, MessagesPlaceholder\n",
        "from pydantic import ValidationError\n",
        "\n",
        "from pydantic import BaseModel, Field\n",
        "\n",
        "\n",
        "class Reflection(BaseModel):\n",
        "    missing: str = Field(description=\"Critique of what is missing.\")\n",
        "    superfluous: str = Field(description=\"Critique of what is superfluous\")\n",
        "\n",
        "\n",
        "class AnswerQuestion(BaseModel):\n",
        "    \"\"\"Answer the question. Provide an answer, reflection, and then follow up with search queries to improve the answer.\"\"\"\n",
        "\n",
        "    answer: str = Field(description=\"~250 word detailed answer to the question.\")\n",
        "    reflection: Reflection = Field(description=\"Your reflection on the initial answer.\")\n",
        "    search_queries: list[str] = Field(\n",
        "        description=\"1-3 search queries for researching improvements to address the critique of your current answer.\"\n",
        "    )\n",
        "\n",
        "\n",
        "class ResponderWithRetries:\n",
        "    def __init__(self, runnable, validator):\n",
        "        self.runnable = runnable\n",
        "        self.validator = validator\n",
        "\n",
        "    def respond(self, state: dict):\n",
        "        response = []\n",
        "        for attempt in range(3):\n",
        "            response = self.runnable.invoke(\n",
        "                {\"messages\": state[\"messages\"]}, {\"tags\": [f\"attempt:{attempt}\"]}\n",
        "            )\n",
        "            try:\n",
        "                self.validator.invoke(response)\n",
        "                return {\"messages\": response}\n",
        "            except ValidationError as e:\n",
        "                state = state + [\n",
        "                    response,\n",
        "                    ToolMessage(\n",
        "                        content=f\"{repr(e)}\\n\\nPay close attention to the function schema.\\n\\n\"\n",
        "                        + self.validator.schema_json()\n",
        "                        + \" Respond by fixing all validation errors.\",\n",
        "                        tool_call_id=response.tool_calls[0][\"id\"],\n",
        "                    ),\n",
        "                ]\n",
        "        return {\"messages\": response}\n",
        "\n"
      ],
      "metadata": {
        "id": "EVwQPryP5erq"
      },
      "execution_count": 5,
      "outputs": []
    },
    {
      "cell_type": "markdown",
      "source": [
        "#### code explanation\n",
        "\n",
        "### Key Components\n",
        "\n",
        "1. **Reflection Class**:\n",
        "   - A Pydantic model that captures critiques of an AI's response.\n",
        "   - Contains two fields: `missing` and `superfluous`.\n",
        "\n",
        "   ```python\n",
        "   class Reflection(BaseModel):\n",
        "       missing: str = Field(description=\"Critique of what is missing.\")\n",
        "       superfluous: str = Field(description=\"Critique of what is superfluous\")\n",
        "   ```\n",
        "\n",
        "2. **AnswerQuestion Class**:\n",
        "   - Another Pydantic model designed to structure the AI's response.\n",
        "   - Includes the `answer`, `reflection`, and a list of `search_queries`.\n",
        "\n",
        "   ```python\n",
        "   class AnswerQuestion(BaseModel):\n",
        "       answer: str = Field(description=\"~250 word detailed answer to the question.\")\n",
        "       reflection: Reflection = Field(description=\"Your reflection on the initial answer.\")\n",
        "       search_queries: list[str] = Field(\n",
        "           description=\"1-3 search queries for researching improvements.\"\n",
        "       )\n",
        "   ```\n",
        "\n",
        "3. **ResponderWithRetries Class**:\n",
        "   - A class that attempts to generate a response multiple times (up to three).\n",
        "   - Utilizes a `runnable` to invoke the response generation and a `validator` to check for validity.\n",
        "\n",
        "   ```python\n",
        "   class ResponderWithRetries:\n",
        "       def __init__(self, runnable, validator):\n",
        "           self.runnable = runnable\n",
        "           self.validator = validator\n",
        "\n",
        "       def respond(self, state: dict):\n",
        "           response = []\n",
        "           for attempt in range(3):\n",
        "               response = self.runnable.invoke(\n",
        "                   {\"messages\": state[\"messages\"]}, {\"tags\": [f\"attempt:{attempt}\"]}\n",
        "               )\n",
        "               try:\n",
        "                   self.validator.invoke(response)\n",
        "                   return {\"messages\": response}\n",
        "               except ValidationError as e:\n",
        "                   state = state + [\n",
        "                       response,\n",
        "                       ToolMessage(\n",
        "                           content=f\"{repr(e)}\\n\\nPay close attention to the function schema.\\n\\n\"\n",
        "                           + self.validator.schema_json()\n",
        "                           + \" Respond by fixing all validation errors.\",\n",
        "                           tool_call_id=response.tool_calls[0][\"id\"],\n",
        "                       ),\n",
        "                   ]\n",
        "           return {\"messages\": response}\n",
        "   ```\n",
        "\n",
        "### Functionality\n",
        "\n",
        "- **Response Generation**: The `ResponderWithRetries` class aims to generate a detailed answer while ensuring it adheres to the expected schema.\n",
        "- **Validation**: If the response does not match the schema, it captures the error and prompts the user to correct it.\n",
        "- **Reflection**: The generated answer includes a reflection on its quality, identifying areas that are missing or superfluous."
      ],
      "metadata": {
        "id": "f_p6-SOK79iy"
      }
    },
    {
      "cell_type": "code",
      "source": [
        "# defining prompt for actor agent\n",
        "\n",
        "import datetime\n",
        "\n",
        "actor_prompt_template = ChatPromptTemplate.from_messages(\n",
        "    [\n",
        "        (\n",
        "            \"system\",\n",
        "            \"\"\"You are expert researcher.\n",
        "Current time: {time}\n",
        "\n",
        "1. {first_instruction}\n",
        "2. Reflect and critique your answer. Be severe to maximize improvement.\n",
        "3. Recommend search queries to research information and improve your answer.\"\"\",\n",
        "        ),\n",
        "        MessagesPlaceholder(variable_name=\"messages\"),\n",
        "        (\n",
        "            \"user\",\n",
        "            \"\\n\\n<system>Reflect on the user's original question and the\"\n",
        "            \" actions taken thus far. Respond using the {function_name} function.</reminder>\",\n",
        "        ),\n",
        "    ]\n",
        ").partial(\n",
        "    time=lambda: datetime.datetime.now().isoformat(),\n",
        ")\n",
        "initial_answer_chain = actor_prompt_template.partial(\n",
        "    first_instruction=\"Provide a detailed ~250 word answer.\",\n",
        "    function_name=AnswerQuestion.__name__,\n",
        ") | llm.bind_tools(tools=[AnswerQuestion])\n",
        "validator = PydanticToolsParser(tools=[AnswerQuestion])\n",
        "\n",
        "first_responder = ResponderWithRetries(\n",
        "    runnable=initial_answer_chain, validator=validator\n",
        ")\n",
        "\n"
      ],
      "metadata": {
        "id": "lc7pmW_l78t1"
      },
      "execution_count": 6,
      "outputs": []
    },
    {
      "cell_type": "code",
      "source": [
        "# checking our actor agent\n",
        "example_question = \"Why is reflection useful in AI?\"\n",
        "initial = first_responder.respond(\n",
        "    {\"messages\": [HumanMessage(content=example_question)]}\n",
        ")"
      ],
      "metadata": {
        "id": "76i0i2FV9Iww"
      },
      "execution_count": 7,
      "outputs": []
    },
    {
      "cell_type": "code",
      "source": [
        "print(initial[\"messages\"])"
      ],
      "metadata": {
        "colab": {
          "base_uri": "https://localhost:8080/"
        },
        "id": "c7AdwdXR9Q5C",
        "outputId": "00210955-4fd2-47f8-d9de-ab31d82f49ee"
      },
      "execution_count": 8,
      "outputs": [
        {
          "output_type": "stream",
          "name": "stdout",
          "text": [
            "content='' additional_kwargs={'tool_calls': [{'id': 'call_6a4e', 'function': {'arguments': '{\"answer\":\"Reflection is useful in AI as it enables the system to evaluate its own performance, identify areas of improvement, and adapt to new situations. Through reflection, AI systems can analyze their decision-making processes, recognize biases, and adjust their algorithms to produce more accurate results. This self-awareness allows AI to learn from its mistakes, refine its knowledge, and develop more effective problem-solving strategies. Moreover, reflection in AI can facilitate transparency, explainability, and trustworthiness, which are essential for human-AI collaboration and decision-making. By reflecting on its actions and outcomes, AI can provide insights into its reasoning and decision-making processes, making it more reliable and accountable. Overall, reflection is a crucial component of AI development, as it enables the creation of more intelligent, flexible, and human-centered systems.\", \"reflection\":{\"missing\":\"The current answer lacks specific examples of AI applications that utilize reflection, such as self-modifying code or meta-learning algorithms. Additionally, it does not discuss the challenges and limitations of implementing reflection in AI systems, such as the risk of overfitting or the need for careful tuning of reflective mechanisms.\", \"superfluous\":\"The answer does not contain any superfluous information, but it could be improved by providing more technical details and references to relevant research papers or studies on reflection in AI.\"}, \"search_queries\":[\"reflection in AI systems\", \"self-modifying code in AI\", \"meta-learning algorithms and reflection\"]}', 'name': 'AnswerQuestion'}, 'type': 'function'}]} response_metadata={'token_usage': {'completion_tokens': 299, 'prompt_tokens': 441, 'total_tokens': 740, 'completion_time': 1.087272727, 'prompt_time': 0.028293206, 'queue_time': 0.20321836199999999, 'total_time': 1.115565933}, 'model_name': 'llama-3.3-70b-versatile', 'system_fingerprint': 'fp_9a8b91ba77', 'finish_reason': 'tool_calls', 'logprobs': None} id='run-af4457bf-b5b8-41c3-8100-5b4b41779486-0' tool_calls=[{'name': 'AnswerQuestion', 'args': {'answer': 'Reflection is useful in AI as it enables the system to evaluate its own performance, identify areas of improvement, and adapt to new situations. Through reflection, AI systems can analyze their decision-making processes, recognize biases, and adjust their algorithms to produce more accurate results. This self-awareness allows AI to learn from its mistakes, refine its knowledge, and develop more effective problem-solving strategies. Moreover, reflection in AI can facilitate transparency, explainability, and trustworthiness, which are essential for human-AI collaboration and decision-making. By reflecting on its actions and outcomes, AI can provide insights into its reasoning and decision-making processes, making it more reliable and accountable. Overall, reflection is a crucial component of AI development, as it enables the creation of more intelligent, flexible, and human-centered systems.', 'reflection': {'missing': 'The current answer lacks specific examples of AI applications that utilize reflection, such as self-modifying code or meta-learning algorithms. Additionally, it does not discuss the challenges and limitations of implementing reflection in AI systems, such as the risk of overfitting or the need for careful tuning of reflective mechanisms.', 'superfluous': 'The answer does not contain any superfluous information, but it could be improved by providing more technical details and references to relevant research papers or studies on reflection in AI.'}, 'search_queries': ['reflection in AI systems', 'self-modifying code in AI', 'meta-learning algorithms and reflection']}, 'id': 'call_6a4e', 'type': 'tool_call'}] usage_metadata={'input_tokens': 441, 'output_tokens': 299, 'total_tokens': 740}\n"
          ]
        }
      ]
    },
    {
      "cell_type": "code",
      "source": [
        "# defining the second part of actor agent i.e revision\n",
        "\n",
        "revise_instructions = \"\"\"Revise your previous answer using the new information.\n",
        "    - You should use the previous critique to add important information to your answer.\n",
        "        - You MUST include numerical citations in your revised answer to ensure it can be verified.\n",
        "        - Add a \"References\" section to the bottom of your answer (which does not count towards the word limit). In form of:\n",
        "            - [1] https://example.com\n",
        "            - [2] https://example.com\n",
        "    - You should use the previous critique to remove superfluous information from your answer and make SURE it is not more than 250 words.\n",
        "\"\"\"\n",
        "\n",
        "\n",
        "# Extend the initial answer schema to include references.\n",
        "class AnswerQuestion(BaseModel):\n",
        "    \"\"\"Answer the question. Provide an answer, reflection, and then follow up with search queries to improve the answer.\"\"\"\n",
        "\n",
        "    answer: str = Field(description=\"~250 word detailed answer to the question.\")\n",
        "    reflection: Reflection = Field(description=\"Your reflection on the initial answer.\")\n",
        "    search_queries: list[str] = Field(\n",
        "        description=\"1-3 search queries for researching improvements to address the critique of your current answer.\"\n",
        "    )\n",
        "\n",
        "    # Add the references field\n",
        "    references: list[str] = Field(\n",
        "        description=\"Citations motivating your updated answer.\"\n",
        "    )\n",
        "# Forcing citation in the model encourages grounded responses\n",
        "class ReviseAnswer(AnswerQuestion):\n",
        "    \"\"\"Revise your original answer to your question. Provide an answer, reflection,\n",
        "\n",
        "    cite your reflection with references, and finally\n",
        "    add search queries to improve the answer.\"\"\"\n",
        "\n",
        "    references: list[str] = Field(\n",
        "        description=\"Citations motivating your updated answer.\"\n",
        "    )\n",
        "\n",
        "\n",
        "revision_chain = actor_prompt_template.partial(\n",
        "    first_instruction=revise_instructions,\n",
        "    function_name=ReviseAnswer.__name__,\n",
        ") | llm.bind_tools(tools=[ReviseAnswer])\n",
        "revision_validator = PydanticToolsParser(tools=[ReviseAnswer])\n",
        "\n",
        "revisor = ResponderWithRetries(runnable=revision_chain, validator=revision_validator)\n"
      ],
      "metadata": {
        "id": "zTfeEpZA9VDM"
      },
      "execution_count": 9,
      "outputs": []
    },
    {
      "cell_type": "code",
      "source": [
        "print(initial[\"messages\"].tool_calls)"
      ],
      "metadata": {
        "colab": {
          "base_uri": "https://localhost:8080/"
        },
        "id": "tGqXhZ7U-Aes",
        "outputId": "7718ea4a-5ff3-49ed-a716-9c096fca547c"
      },
      "execution_count": 10,
      "outputs": [
        {
          "output_type": "stream",
          "name": "stdout",
          "text": [
            "[{'name': 'AnswerQuestion', 'args': {'answer': 'Reflection is useful in AI as it enables the system to evaluate its own performance, identify areas of improvement, and adapt to new situations. Through reflection, AI systems can analyze their decision-making processes, recognize biases, and adjust their algorithms to produce more accurate results. This self-awareness allows AI to learn from its mistakes, refine its knowledge, and develop more effective problem-solving strategies. Moreover, reflection in AI can facilitate transparency, explainability, and trustworthiness, which are essential for human-AI collaboration and decision-making. By reflecting on its actions and outcomes, AI can provide insights into its reasoning and decision-making processes, making it more reliable and accountable. Overall, reflection is a crucial component of AI development, as it enables the creation of more intelligent, flexible, and human-centered systems.', 'reflection': {'missing': 'The current answer lacks specific examples of AI applications that utilize reflection, such as self-modifying code or meta-learning algorithms. Additionally, it does not discuss the challenges and limitations of implementing reflection in AI systems, such as the risk of overfitting or the need for careful tuning of reflective mechanisms.', 'superfluous': 'The answer does not contain any superfluous information, but it could be improved by providing more technical details and references to relevant research papers or studies on reflection in AI.'}, 'search_queries': ['reflection in AI systems', 'self-modifying code in AI', 'meta-learning algorithms and reflection']}, 'id': 'call_6a4e', 'type': 'tool_call'}]\n"
          ]
        }
      ]
    },
    {
      "cell_type": "code",
      "source": [
        "import json\n",
        "\n",
        "revised = revisor.respond(\n",
        "    {\n",
        "        \"messages\": [\n",
        "            HumanMessage(content=example_question),\n",
        "            initial[\"messages\"],\n",
        "            ToolMessage(\n",
        "                tool_call_id=initial[\"messages\"].tool_calls[0][\"id\"],\n",
        "                content=json.dumps(\n",
        "                    tavily_tool.invoke(\n",
        "                        {\n",
        "                            \"query\": initial[\"messages\"].tool_calls[0][\"args\"][\n",
        "                                \"search_queries\"\n",
        "                            ][0]\n",
        "                        }\n",
        "                    )\n",
        "                ),\n",
        "            ),\n",
        "        ]\n",
        "    }\n",
        ")\n",
        "revised[\"messages\"]"
      ],
      "metadata": {
        "colab": {
          "base_uri": "https://localhost:8080/"
        },
        "id": "fY9SMz8L9qTF",
        "outputId": "d3d1d35c-a843-46d1-c8d5-cbd055acbfcb"
      },
      "execution_count": 11,
      "outputs": [
        {
          "output_type": "execute_result",
          "data": {
            "text/plain": [
              "AIMessage(content='', additional_kwargs={'tool_calls': [{'id': 'call_ywsb', 'function': {'arguments': '{\"answer\": \"Reflection is a crucial component of AI development, enabling systems to evaluate their performance, identify areas of improvement, and adapt to new situations. Through reflection, AI systems can analyze their decision-making processes, recognize biases, and adjust their algorithms to produce more accurate results. This self-awareness allows AI to learn from its mistakes, refine its knowledge, and develop more effective problem-solving strategies. For instance, reflection can be applied in self-modifying code or meta-learning algorithms, where AI systems can modify their own architecture or learning objectives based on their performance [1]. Moreover, reflection in AI can facilitate transparency, explainability, and trustworthiness, which are essential for human-AI collaboration and decision-making. According to recent studies, reflection can improve the quality and success rate of AI systems, enabling them to approach tasks that require multi-step reasoning, planning, and logical thought [2].\", \"references\": [\"https://en.wikipedia.org/wiki/Reflection_(artificial_intelligence)\", \"https://blog.langchain.dev/reflection-agents/\"], \"reflection\": {\"missing\": \"The current answer lacks specific examples of AI applications that utilize reflection, such as natural language processing or computer vision. Additionally, it does not discuss the challenges and limitations of implementing reflection in AI systems, such as the risk of overfitting or the need for careful tuning of reflective mechanisms.\", \"superfluous\": \"The answer does not contain any superfluous information, but it could be improved by providing more technical details and references to relevant research papers or studies on reflection in AI.\"}, \"search_queries\": [\"reflection in AI systems\", \"self-modifying code in AI\", \"meta-learning algorithms and reflection\"]}', 'name': 'ReviseAnswer'}, 'type': 'function'}]}, response_metadata={'token_usage': {'completion_tokens': 352, 'prompt_tokens': 2012, 'total_tokens': 2364, 'completion_time': 1.28, 'prompt_time': 0.140137473, 'queue_time': 0.24501463499999998, 'total_time': 1.420137473}, 'model_name': 'llama-3.3-70b-versatile', 'system_fingerprint': 'fp_3f3b593e33', 'finish_reason': 'tool_calls', 'logprobs': None}, id='run-594e03be-518d-479f-96ff-c0a027207bbe-0', tool_calls=[{'name': 'ReviseAnswer', 'args': {'answer': 'Reflection is a crucial component of AI development, enabling systems to evaluate their performance, identify areas of improvement, and adapt to new situations. Through reflection, AI systems can analyze their decision-making processes, recognize biases, and adjust their algorithms to produce more accurate results. This self-awareness allows AI to learn from its mistakes, refine its knowledge, and develop more effective problem-solving strategies. For instance, reflection can be applied in self-modifying code or meta-learning algorithms, where AI systems can modify their own architecture or learning objectives based on their performance [1]. Moreover, reflection in AI can facilitate transparency, explainability, and trustworthiness, which are essential for human-AI collaboration and decision-making. According to recent studies, reflection can improve the quality and success rate of AI systems, enabling them to approach tasks that require multi-step reasoning, planning, and logical thought [2].', 'references': ['https://en.wikipedia.org/wiki/Reflection_(artificial_intelligence)', 'https://blog.langchain.dev/reflection-agents/'], 'reflection': {'missing': 'The current answer lacks specific examples of AI applications that utilize reflection, such as natural language processing or computer vision. Additionally, it does not discuss the challenges and limitations of implementing reflection in AI systems, such as the risk of overfitting or the need for careful tuning of reflective mechanisms.', 'superfluous': 'The answer does not contain any superfluous information, but it could be improved by providing more technical details and references to relevant research papers or studies on reflection in AI.'}, 'search_queries': ['reflection in AI systems', 'self-modifying code in AI', 'meta-learning algorithms and reflection']}, 'id': 'call_ywsb', 'type': 'tool_call'}], usage_metadata={'input_tokens': 2012, 'output_tokens': 352, 'total_tokens': 2364})"
            ]
          },
          "metadata": {},
          "execution_count": 11
        }
      ]
    },
    {
      "cell_type": "markdown",
      "source": [
        "## Creating tool node\n",
        "Next, create a node to execute the tool calls. While we give the LLMs different schema names (and use those for validation), we want them both to route to the same tool"
      ],
      "metadata": {
        "id": "AAbn-GNHoMGX"
      }
    },
    {
      "cell_type": "code",
      "source": [
        "from langchain_core.tools import StructuredTool\n",
        "\n",
        "from langgraph.prebuilt import ToolNode\n",
        "\n",
        "\n",
        "def run_queries(search_queries: list[str], **kwargs):\n",
        "    \"\"\"Run the generated queries.\"\"\"\n",
        "    return tavily_tool.batch([{\"query\": query} for query in search_queries])\n",
        "\n",
        "\n",
        "tool_node = ToolNode(\n",
        "    [\n",
        "        StructuredTool.from_function(run_queries, name=AnswerQuestion.__name__),\n",
        "        StructuredTool.from_function(run_queries, name=ReviseAnswer.__name__),\n",
        "    ]\n",
        ")\n"
      ],
      "metadata": {
        "id": "DSUUiUNl-_W2"
      },
      "execution_count": 13,
      "outputs": []
    },
    {
      "cell_type": "markdown",
      "source": [
        "## Construct Graph\n",
        "Now we can wire all our components together."
      ],
      "metadata": {
        "id": "fkzc6dmao538"
      }
    },
    {
      "cell_type": "code",
      "source": [
        "from typing import Literal\n",
        "\n",
        "from langgraph.graph import END, StateGraph, START\n",
        "from langgraph.graph.message import add_messages\n",
        "from typing import Annotated\n",
        "from typing_extensions import TypedDict\n",
        "\n",
        "\n",
        "class State(TypedDict):\n",
        "    messages: Annotated[list, add_messages]\n",
        "\n",
        "\n",
        "MAX_ITERATIONS = 2\n",
        "builder = StateGraph(State)\n",
        "builder.add_node(\"draft\", first_responder.respond)\n",
        "\n",
        "\n",
        "builder.add_node(\"execute_tools\", tool_node)\n",
        "builder.add_node(\"revise\", revisor.respond)\n",
        "# draft -> execute_tools\n",
        "builder.add_edge(\"draft\", \"execute_tools\")\n",
        "# execute_tools -> revise\n",
        "builder.add_edge(\"execute_tools\", \"revise\")\n",
        "\n",
        "# Define looping logic:\n",
        "\n",
        "\n",
        "def _get_num_iterations(state: list):\n",
        "    i = 0\n",
        "    for m in state[::-1]:\n",
        "        if m.type not in {\"tool\", \"ai\"}:\n",
        "            break\n",
        "        i += 1\n",
        "    return i\n",
        "\n",
        "\n",
        "def event_loop(state: list):\n",
        "    # in our case, we'll just stop after N plans\n",
        "    num_iterations = _get_num_iterations(state[\"messages\"])\n",
        "    if num_iterations > MAX_ITERATIONS:\n",
        "        return END\n",
        "    return \"execute_tools\"\n",
        "\n",
        "\n",
        "# revise -> execute_tools OR end\n",
        "builder.add_conditional_edges(\"revise\", event_loop, [\"execute_tools\", END])\n",
        "builder.add_edge(START, \"draft\")\n",
        "graph = builder.compile()\n"
      ],
      "metadata": {
        "id": "l8X45BBDo2Xd"
      },
      "execution_count": 17,
      "outputs": []
    },
    {
      "cell_type": "code",
      "source": [
        "from IPython.display import Image, display\n",
        "\n",
        "try:\n",
        "    display(Image(graph.get_graph().draw_mermaid_png()))\n",
        "except Exception:\n",
        "    # This requires some extra dependencies and is optional\n",
        "    pass\n"
      ],
      "metadata": {
        "colab": {
          "base_uri": "https://localhost:8080/",
          "height": 449
        },
        "id": "X_847fMno-pr",
        "outputId": "8e351373-5087-4350-c0db-79f27d66982d"
      },
      "execution_count": 15,
      "outputs": [
        {
          "output_type": "display_data",
          "data": {
            "image/png": "[encoded data removed]",
            "text/plain": [
              "<IPython.core.display.Image object>"
            ]
          },
          "metadata": {}
        }
      ]
    },
    {
      "cell_type": "code",
      "source": [
        "\n",
        "events = graph.stream(\n",
        "    {\"messages\": [(\"user\", \"How should we handle the climate crisis?\")]},\n",
        "    stream_mode=\"values\",\n",
        ")\n",
        "for i, step in enumerate(events):\n",
        "    print(f\"Step {i}\")\n",
        "    step[\"messages\"][-1].pretty_print()"
      ],
      "metadata": {
        "colab": {
          "base_uri": "https://localhost:8080/"
        },
        "id": "EpVwvyhCpAup",
        "outputId": "5aa38b3c-5c69-4551-c0c8-7e5ff5cee014"
      },
      "execution_count": 18,
      "outputs": [
        {
          "output_type": "stream",
          "name": "stdout",
          "text": [
            "Step 0\n",
            "================================\u001b[1m Human Message \u001b[0m=================================\n",
            "\n",
            "How should we handle the climate crisis?\n",
            "Step 1\n",
            "==================================\u001b[1m Ai Message \u001b[0m==================================\n",
            "Tool Calls:\n",
            "  AnswerQuestion (call_1q3n)\n",
            " Call ID: call_1q3n\n",
            "  Args:\n",
            "    answer: To handle the climate crisis, we must adopt a multi-faceted approach that involves both individual and collective actions. Firstly, governments and corporations must prioritize sustainable practices, such as investing in renewable energy sources, increasing energy efficiency, and implementing policies to reduce greenhouse gas emissions. Additionally, individuals can make a significant impact by making conscious choices in their daily lives, such as reducing meat consumption, using public transport, and conserving water. Furthermore, it is essential to support climate change research and development of new technologies that can help mitigate the effects of climate change. We must also work together to protect and restore natural ecosystems, such as forests and oceans, which play a crucial role in regulating the climate. Lastly, it is vital to address the social and economic inequalities that are exacerbated by climate change, by providing support and resources to vulnerable communities and promoting climate justice.\n",
            "    reflection: {'missing': 'The answer lacks specific examples and data to support the proposed actions, and does not provide a clear timeline for implementation. It also does not address the role of international cooperation and global governance in addressing the climate crisis.', 'superfluous': 'The answer does not contain any unnecessary information, but could be improved by providing more concise and focused language.'}\n",
            "    search_queries: ['climate change mitigation strategies', 'renewable energy technologies', 'global climate governance and cooperation']\n",
            "Step 2\n",
            "=================================\u001b[1m Tool Message \u001b[0m=================================\n",
            "Name: AnswerQuestion\n",
            "\n",
            "[[{\"title\": \"Climate change mitigation - Wikipedia\", \"url\": \"https://en.wikipedia.org/wiki/Climate_change_mitigation\", \"content\": \"Climate change mitigation (or decarbonisation) is action to limit the greenhouse gases in the atmosphere that cause climate change. Climate change mitigation actions include conserving energy and replacing fossil fuels with clean energy sources. Secondary mitigation strategies include changes to land use and removing carbon dioxide (CO2) from the atmosphere.[1][2] Current climate change mitigation policies are insufficient as they would still result in global warming of about 2.7 °C by 2100,[3] [...] powering transportation, heating buildings, and running industrial processes.[citation needed] Certain processes are more difficult to decarbonise, such as air travel and cement production. Carbon capture and storage (CCS) can be an option to reduce net emissions in these circumstances, although fossil fuel power plants with CCS technology is currently a high cost climate change mitigation strategy.[9] [...] Proforestation is promoting forests to capture their full ecological potential.[130] This is a mitigation strategy as secondary forests that have regrown in abandoned farmland are found to have less biodiversity than the original old-growth forests. Original forests store 60% more carbon than these new forests.[131] Strategies include rewilding and establishing wildlife corridors.[132][133]\\nAfforestation and reforestation[edit]\", \"score\": 0.9307171}, {\"title\": \"Climate change mitigation: reducing emissions\", \"url\": \"https://www.eea.europa.eu/en/topics/in-depth/climate-change-mitigation-reducing-emissions\", \"content\": \"EU Member States have put in place 3,000 policies and measures to prevent the worst impacts of climate change. National climate change mitigation strategies, policies and other accompanying measures are also in development. These include targets for greenhouse gas emissions in key sectors of the economy, promoting the use of renewable energy and low carbon fuels, energy efficiency improvements in buildings, and many more. [...] Mitigating climate change means reducing the flow of heat-trapping greenhouse gases into the atmosphere. This involves cutting greenhouse gases from main sources such as power plants, factories, cars, and farms. Forests, oceans, and soil also absorb and store these gases, and are an important part of the solution. Reducing and avoiding our emissions requires us to reshape everything we do — from how we power our economy and grow our food, to how we travel and live, and the products we consume.\", \"score\": 0.8839694}, {\"title\": \"5 Strategies that Achieve Climate Mitigation and Adaptation ...\", \"url\": \"https://www.wri.org/insights/5-strategies-achieve-climate-mitigation-and-adaptation-simultaneously\", \"content\": \"Climate actions have often fallen into one of two strategies: mitigation efforts to lower or remove greenhouse gas emissions from the atmosphere, and adaptation efforts to adjust systems and societies to withstand the impacts of climate change. The separation has led to the misinformed view that addressing climate change means pursuing either mitigation or adaptation. [...] Adding trees to farms and pastures allows farmers to diversify their income while their land absorbs more carbon. Photo by USDA/Flickr.\\n3. Decentralize Energy Distribution [...] It is not always possible or practical to work solely on actions that are both adaptive and mitigating. Nor are these actions a silver bullet to solving the climate crisis. Simply put, where they make sense, governments and communities should pursue such actions. Below are five solutions that can both curb climate change and help us cope with its impacts at the same time:\\n1. Protect Coastal Wetlands\", \"score\": 0.86303437}, {\"title\": \"Climate change: Strategies for mitigation and adaptation\", \"url\": \"https://www.the-innovation.org/article/doi/10.59717/j.xinn-geo.2023.100015\", \"content\": \"Climate change is accelerated by anthropogenic greenhouse gas emissions, and its effects are increasingly felt globally.\\n\\nTransitioning to renewable energy sources and enhancing carbon sinks are crucial steps in mitigating climate change.\\n\\nAdaptation to climate change requires a combination of strategies that foster resilience in local communities and ecosystems.\\n\\nCarbon quantification, modeling, and pricing are key areas that need to be further developed to address climate change. [...] [472] | De la Sota, C., Ruffato-Ferreira, V.J., Ruiz-Garcia, L., and Alvarez, S. (2019). Urban green infrastructure as a strategy of climate change mitigation. A case study in northern Spain. Urban For. Urban Gree.40: 145−151.View in ArticleGoogle Scholar [...] [23] | IPCC (2022). Climate change 2022: Mitigation of climate change. Mitigation pathways compatible with long-term goals. Intergovernmental Panel on Climate Change.View in ArticleGoogle Scholar\\n[24] | Ratwatte, P., Wehling, H., Phalkey, R., and Weston, D. (2023). Prioritising climate change mitigation behaviours and exploring public health co-benefits: a delphi study. Int. J. Environ. Res. Public Health20: 5094.  DOI: 10.3390/ijerph20065094.View in ArticleCrossRefGoogle Scholar\", \"score\": 0.83678174}, {\"title\": \"Climate Change Goals: Mitigation\", \"url\": \"https://climate.colorado.gov/cc-goals-mitigation\", \"content\": \"What is Mitigation?\\nMitigation refers to efforts to prevent further climate warming by eliminating greenhouse gas emissions. Colorado’s main mitigation strategy is shifting from fossil-based energy — such as coal, natural gas and oil — to clean energy sources such as wind, solar, geothermal, and hydro power. Mitigation can also include energy efficiency, conservation, methane emissions reduction from agriculture and other sectors, and other policy changes that reduce the need for fossil fuels. [...] Mitigation Goals\\n\\nMitigation efforts focus on reducing greenhouse gas emissions, creating new jobs and business opportunities, and reducing negative impacts of fossil energy use as well as costs to Colorado residents and businesses.\\nColorado is:\", \"score\": 0.8338803}], [{\"title\": \"Renewable Energy Technologies - an overview | ScienceDirect Topics\", \"url\": \"https://www.sciencedirect.com/topics/engineering/renewable-energy-technologies\", \"content\": \"My account\\nSign in\\nRenewable Energy Technologies\\nIn subject area: Engineering\\nRenewable energy technologies are those technologies that can be used to produce energy from direct and indirect effects on the Earth from the sun’s energy (e.g., solar energy, wind, and waterfalls), gravity effects (ebb and flow), and the high temperature of the Earth’s center (geothermal).\\nFrom: Solar Energy, 2015\\nAbout this page\\nAdd to MendeleySet alert\\nDiscover other topics\\n\\nOn this page\\n    ------------ [...] biomass and wind energy. Renewable energy technologies provide an excellent opportunity for mitigation of greenhouse gas emission and reducing global warming through substituting conventional energy sources. In this article a review has been done on scope of CO2 mitigation through solar cooker, water heater, dryer, biofuel, improved cookstoves and by hydrogen. [...] “Renewable energy technologies” is an umbrella term that stands for energy production using a renewable energy source like solar, wind, water (hydro and tidal), biomass (biofuels and wastes), and geothermal heat. The International Energy Agency (IEA) calls these “renewable energy sources” (IEA, 2019: 3). A “renewable energy system” is then seen as the actual power plant that converts the renewable energy carrier or source into electrical, mechanical or thermal energy for use by the consumer. In\", \"score\": 0.94401723}, {\"title\": \"The race to develop renewable energy technologies | MIT News\", \"url\": \"https://news.mit.edu/2019/race-develop-renewable-energy-technologies-1218\", \"content\": \"MIT News\\nThe race to develop renewable energy technologies\\n\\nThe race to develop renewable energy technologies\\nMechanical engineers rush to develop energy conversion and storage technologies from renewable sources such as wind, wave, solar, and thermal.\\nMary Beth Gallagher | Department of Mechanical Engineering\\nPublication Date:\\nDecember 18, 2019 [...] While CSP receivers like STAR offer some energy storage capabilities, there is a push to develop more robust energy storage systems for renewable technologies. Storing energy for later use when resources aren’t supplying a consistent stream of energy — for example, when the sun is covered by clouds, or there is little-to-no wind — will be crucial for the adoption of renewable energy on the grid. To solve this problem, researchers are developing new storage technologies. [...] Rao is one of many researchers across MIT’s Department of Mechanical Engineering who have entered the race to develop energy conversion and storage technologies from renewable sources such as wind, wave, solar, and thermal.\\nHarnessing energy from waves\", \"score\": 0.8449346}, {\"title\": \"Distributed Energy Technologies for Federal Projects\", \"url\": \"https://www.energy.gov/femp/distributed-energy-technologies-federal-projects\", \"content\": \"Renewable energy technologies (from left to right): geothermal, hydropower, wind, concentrating solar power, and biomass.\", \"score\": 0.82895297}, {\"title\": \"Renewables - Energy System - IEA\", \"url\": \"https://www.iea.org/energy-system/renewables\", \"content\": \"Achieving a high penetration of renewable power and heat technologies is a necessary condition to decarbonise many carbon-intensive sectors of the economy, including heavy industry, construction and transport. The expansion of renewable hydrogen use, emissions-free heating in buildings, and electric vehicles requires an integrated approach, connecting the utilisation of all renewable energy technologies. Policy makers should focus on implementing long-term plans for whole-economy [...] Solar PV is today the only renewable energy technology on track with the Net Zero Emissions by 2050 (NZE) Scenario. Wind, hydro, geothermal, solar thermal and ocean energy use needs to expand significantly faster in order to get on track. Non-bioenergy renewables need to increase their share of total energy supply from close to 6% today to approximately 16% by 2030 in the NZE Scenario. To achieve this, annual renewable energy use must increase at an average rate of about 15% during 2024-2030, [...] Renewables, in particular wind and solar technologies, are responsible for one of the largest shares of global CO2 emission reductions between now and 2030 in the NZE Scenario. They offer an alternative to investment in new fossil fuel power generation plants and displace generation from existing units.\", \"score\": 0.8232293}, {\"title\": \"Energy Technology and Renewables - RTI International\", \"url\": \"https://www.rti.org/focus-area/energy-technology-renewables\", \"content\": \"Sustainable energy technology not only improves our quality of life by reducing air and water pollution, but it also mitigates fossil fuel energy dependence by creating renewable resources in local communities.\\n\\nThese technologies are renewable in nature and offer less environmentally invasive ways to power the global community. Common sources of sustainable energy include water, geothermal, bioenergy, renewable natural gas, and nuclear power. [...] Widespread adoption of renewable energy technologies will help the global community curb environmental changes and impacts. RTI International is at the forefront of sustainable energy implementation, decarbonization technologies, and electric sector research both domestically and internationally. In the U.S., we work with federal and state agencies to build energy sector and economy-wide models that help policymakers assess energy policies.\", \"score\": 0.7978881}], [{\"title\": \"global climate governance evaluating policy responses in an era of ...\", \"url\": \"https://www.gssrjournal.com/fulltext/global-climate-governance-evaluating-policy-responses-in-an-era-of-international-cooperation-and-competition\", \"content\": \"society (Sovacool et al., 2022; Jones, 2024).In summary, this literature on global climate governance will be a comprehensive explanation of the complex interplay of international cooperation and competition. It points out the imperative to use inclusive, equitable, and innovative approaches for solving multifaceted climate change problems. Future research would do well to track these changes in global climate governance with specific attention to the implementation of international agreements, [...] In summary, this literature on global climate governance will be a comprehensive explanation of the complex interplay of international cooperation and competition. It points out the imperative to use inclusive, equitable, and innovative approaches for solving multifaceted climate change problems. Future research would do well to track these changes in global climate governance with specific attention to the implementation of international agreements, the role of non-state actors, and [...] The objectives of this paper are set to explore the complex terrain of international climate governance within the contexts of cooperation and competition. By focusing on specific areas of inquiry, we hope to clarify the mechanisms and dynamics that shape climate policy responses. The following goals will serve as the focus for our assessment of how effectively international climate agreements actually spur action to change global trends, while at the same time delving into whether cooperation\", \"score\": 0.8755427}, {\"title\": \"Global climate governance: rising trend of translateral cooperation\", \"url\": \"https://pubmed.ncbi.nlm.nih.gov/35370522/\", \"content\": \"qualitative methods, combining content analysis subsequent interviews, this research empirically demonstrates the role and importance of bilateral transatlantic cooperation and informal agreements between national and subnational actors in global climate governance. Using the EU-US case study, this research identifies a diagonal dimension of interaction between states and transnational actors. It introduces and defines the terms \\\"translateral cooperation\\\" and \\\"translateral agreements\\\" in the [...] participation of transnational actors at different levels of governance. However, each of these theories overlooks a bilateral trend of cooperation in a multilateral setting that arises as part of the construction or reconstruction of the international regime. Why do national and subnational public actors in global climate governance cooperate bilaterally when multilateral cooperation already exists? What type of bilateral cooperative agreements do these actors prefer, and why? Using [...] Supplementary information:\\n        \\n      \\n      The online version contains supplementary material available at 10.1007/s10784-022-09575-6.\\n\\nKeywords:\\n        \\n      \\n      Bilateral cooperation; Climate change; Environmental treaties; Global governance; Soft law; Subnational actors.\\n\\n© The Author(s), under exclusive licence to Springer Nature B.V. 2022.\\n\\nPubMed Disclaimer\\n\\nConflict of interest statement\", \"score\": 0.85825616}, {\"title\": \"Global climate governance inequality unveiled through dynamic ...\", \"url\": \"https://www.nature.com/articles/s44168-024-00159-5\", \"content\": \"has been adopted as a reference point by India and several Southeast Asian countries in formulating their own emissions reduction targets. In summary, an analysis of political influence necessitates the integration of global climate governance cooperation into the analytical framework, with UNFCCC proposal submissions, participation in climate change organizations, and the ambition reflected in NDCs serving as quantifiable indicators.\", \"score\": 0.85421735}, {\"title\": \"Global Climate Governance: Does Bilateral Cooperation Matter?\", \"url\": \"https://pdxscholar.library.pdx.edu/open_access_etds/6340/\", \"content\": \"This dissertation demonstrates the role and importance of bilateral transatlantic cooperation and informal agreements between national and subnational actors\", \"score\": 0.79369855}]]\n",
            "Step 3\n",
            "==================================\u001b[1m Ai Message \u001b[0m==================================\n",
            "Tool Calls:\n",
            "  ReviseAnswer (call_k1cc)\n",
            " Call ID: call_k1cc\n",
            "  Args:\n",
            "    answer: To handle the climate crisis, we must adopt a multi-faceted approach that involves both individual and collective actions. According to the Intergovernmental Panel on Climate Change (IPCC), transitioning to renewable energy sources and enhancing carbon sinks are crucial steps in mitigating climate change [1]. Additionally, reducing greenhouse gas emissions from main sources such as power plants, factories, cars, and farms is essential. As noted by the International Energy Agency (IEA), solar PV is currently the only renewable energy technology on track with the Net Zero Emissions by 2050 (NZE) Scenario [2]. Furthermore, global climate governance plays a critical role in addressing the climate crisis, with bilateral cooperation and informal agreements between national and subnational actors being essential for effective climate policy responses [3].\n",
            "    references: ['https://www.ipcc.ch/', 'https://www.iea.org/', 'https://pubmed.ncbi.nlm.nih.gov/35370522/']\n",
            "    reflection: {'missing': 'The original answer lacked specific examples and data to support the proposed actions, and did not provide a clear timeline for implementation. It also did not address the role of international cooperation and global governance in addressing the climate crisis.', 'superfluous': 'The original answer did not contain any unnecessary information, but could be improved by providing more concise and focused language.'}\n",
            "    search_queries: ['climate change mitigation strategies', 'renewable energy technologies', 'global climate governance and cooperation']\n"
          ]
        }
      ]
    },
    {
      "cell_type": "code",
      "source": [],
      "metadata": {
        "id": "0E-B-a3fpEiK"
      },
      "execution_count": null,
      "outputs": []
    }
  ]
}