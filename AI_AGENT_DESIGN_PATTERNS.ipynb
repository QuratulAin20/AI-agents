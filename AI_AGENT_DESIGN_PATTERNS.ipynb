{
  "nbformat": 4,
  "nbformat_minor": 0,
  "metadata": {
    "colab": {
      "provenance": [],
      "authorship_tag": "ABX9TyNX+2WoInXcmaS0e9srrzVK",
      "include_colab_link": true
    },
    "kernelspec": {
      "name": "python3",
      "display_name": "Python 3"
    },
    "language_info": {
      "name": "python"
    }
  },
  "cells": [
    {
      "cell_type": "markdown",
      "metadata": {
        "id": "view-in-github",
        "colab_type": "text"
      },
      "source": [
        "<a href=\"https://colab.research.google.com/github/QuratulAin20/AI-agents/blob/main/AI_AGENT_DESIGN_PATTERNS.ipynb\" target=\"_parent\"><img src=\"https://colab.research.google.com/assets/colab-badge.svg\" alt=\"Open In Colab\"/></a>"
      ]
    },
    {
      "cell_type": "markdown",
      "source": [
        "# Reflection Agent\n",
        "- It enable AI agents to reflect on their output by self-assessing their performance.\n",
        "\n",
        "**Strategy**\n",
        "- It uses prompting strategy to improve the quality and success rate of agents and similar AI systems.\n",
        "\n",
        "**Working Method**\n",
        "- It involves prompting an LLM to reflect on and critique its past actions, sometimes incorporating additional external information such as tool observations\n",
        "\n",
        "*It has following 3 architecture*\n",
        "\n",
        "## Basic Reflection Architecture\n",
        "- It composes of two LLM calls: a generator and a reflector.\n",
        "- The generator tries to respond directly to the user's requests.\n",
        "-  The reflector is prompted to role play as a teacher and offer constructive criticism for the initial response.\n",
        "\n",
        "\n",
        "\n",
        "## Reflexion\n",
        "## Language Agents Tree Search\n",
        "\n",
        "\n",
        "\n",
        "\n",
        "\n"
      ],
      "metadata": {
        "id": "9u8yGC3JD5n4"
      }
    },
    {
      "cell_type": "markdown",
      "source": [
        "### Building basic reflection agent architecture"
      ],
      "metadata": {
        "id": "wYaA_QydHHCY"
      }
    },
    {
      "cell_type": "code",
      "execution_count": 17,
      "metadata": {
        "id": "aS-8s1-LDxpH"
      },
      "outputs": [],
      "source": [
        "%pip install -U --quiet  langgraph\n",
        "%pip install -U --quiet tavily-python\n",
        "%pip install -qU langchain-groq\n"
      ]
    },
    {
      "cell_type": "code",
      "source": [
        "import getpass\n",
        "import os\n",
        "\n",
        "\n",
        "def _set_if_undefined(var: str) -> None:\n",
        "    if os.environ.get(var):\n",
        "        return\n",
        "    os.environ[var] = getpass.getpass(var)\n",
        "\n",
        "\n",
        "_set_if_undefined(\"TAVILY_API_KEY\")\n",
        "_set_if_undefined(\"GROQ_API_KEY\")"
      ],
      "metadata": {
        "id": "Z4u_aYx8IG87"
      },
      "execution_count": 18,
      "outputs": []
    },
    {
      "cell_type": "markdown",
      "source": [
        "> Basic reflection architecture consists of generator and reflector so first we create our reflector\n",
        "\n",
        "**Task is to generate an essasy on AI design patterns**"
      ],
      "metadata": {
        "id": "PcugVRYvJXrN"
      }
    },
    {
      "cell_type": "code",
      "source": [
        "# Creating generator\n",
        "\n",
        "# necessary imports\n",
        "from langchain_core.messages import AIMessage, BaseMessage, HumanMessage\n",
        "from langchain_core.prompts import ChatPromptTemplate, MessagesPlaceholder\n",
        "from langchain_groq import ChatGroq\n",
        "\n",
        "# Defining the prompt for generator\n",
        "prompt = ChatPromptTemplate.from_messages(\n",
        "    [\n",
        "        (\n",
        "            \"system\",\n",
        "            \"you are an expert article writer for AI.\"\n",
        "            \"Write an article of 3 paragraphs\"\n",
        "            \"write the best possible article on user request\"\n",
        "            \"If user provide critique, response with the refined version of article\",\n",
        "         ),\n",
        "        MessagesPlaceholder(variable_name = \"messages\"),\n",
        "\n",
        "    ]\n",
        ")\n",
        "\n",
        "# define llm\n",
        "llm = ChatGroq(\n",
        "    model=\"llama-3.1-8b-instant\",\n",
        "    temperature=0.5,\n",
        "    max_tokens=500,\n",
        "    timeout=None,\n",
        "    max_retries=2,\n",
        ")\n",
        "\n",
        "# generation\n",
        "generate = prompt|llm"
      ],
      "metadata": {
        "id": "HRp6R8p4IRSb"
      },
      "execution_count": 28,
      "outputs": []
    },
    {
      "cell_type": "code",
      "source": [
        "# Getting response\n",
        "\n",
        "article =\"\"\n",
        "\n",
        "request = HumanMessage(\n",
        "    content = \"write an article of AI agent architecture\"\n",
        ")\n",
        "\n",
        "for chunk in generate.stream({\"messages\":[request]}):\n",
        "  print(chunk.content, end=\"\")\n",
        "  article += chunk.content\n"
      ],
      "metadata": {
        "colab": {
          "base_uri": "https://localhost:8080/"
        },
        "id": "MzrrXSLIJ9HB",
        "outputId": "f52c3a2a-a5e0-49b5-950f-d429d4a356be"
      },
      "execution_count": 29,
      "outputs": [
        {
          "output_type": "stream",
          "name": "stdout",
          "text": [
            "**The Evolution of AI Agent Architecture: A Comprehensive Overview**\n",
            "\n",
            "The development of Artificial Intelligence (AI) has led to the creation of sophisticated AI agents that can interact with humans and other systems. An AI agent is a software program that perceives its environment, processes information, and takes actions to achieve its goals. Over the years, AI agent architecture has undergone significant transformations, driven by advances in machine learning, natural language processing, and cognitive computing. In this article, we will delve into the evolution of AI agent architecture and explore the key components that make up a modern AI agent.\n",
            "\n",
            "**Traditional AI Agent Architecture**\n",
            "\n",
            "The traditional AI agent architecture is based on the Agent-Environment Interaction model, which consists of three main components: Perception, Action, and Knowledge. Perception involves sensing the environment and extracting relevant information, while Action involves taking decisions and executing actions. Knowledge is the repository of information that the agent uses to reason and make decisions. This traditional architecture has been used in various applications, including expert systems, rule-based systems, and decision support systems. However, it has limitations, such as being brittle and inflexible, and requiring extensive hand-coding.\n",
            "\n",
            "**Modern AI Agent Architecture**\n",
            "\n",
            "The modern AI agent architecture has evolved to incorporate machine learning and deep learning techniques, enabling agents to learn from experience and adapt to changing environments. This architecture is based on the following components: Perception, Action, Knowledge, and Learning. Perception involves using sensors and data sources to gather information, while Action involves taking decisions and executing actions. Knowledge is the repository of information that the agent uses to reason and make decisions, and Learning involves using machine learning algorithms to update the agent's knowledge and improve its performance. This modern architecture has enabled the development of sophisticated AI agents that can interact with humans and other systems, and has applications in areas such as robotics, natural language processing, and computer vision.\n",
            "\n",
            "**Conclusion**\n",
            "\n",
            "The evolution of AI agent architecture has been driven by advances in machine learning, natural language processing, and cognitive computing. From the traditional Agent-Environment Interaction model to the modern architecture that incorporates machine learning and deep learning techniques, AI agents have become increasingly sophisticated and capable. As AI continues to advance, we can expect to see even more complex and capable AI agents that can interact with humans and other systems in more natural and intuitive ways."
          ]
        }
      ]
    },
    {
      "cell_type": "code",
      "source": [
        "# Creating Reflector\n",
        "\n",
        "reflection_prompt = ChatPromptTemplate.from_messages(\n",
        "    [\n",
        "        (\n",
        "            \"system\",\n",
        "            \"you are a crtique on an article writing\"\n",
        "            \"Grade the article and generate critics and recommendation to improve the article on user submission\"\n",
        "            \"Provide detailed recommendations, including requests for length, depth, style, etc.\",\n",
        "        ),\n",
        "        MessagesPlaceholder(variable_name = \"messages\"),\n",
        "    ]\n",
        ")\n",
        "\n",
        "# defining LLM\n",
        "# we already define it\n",
        "\n",
        "# creting reflector chain\n",
        "reflect = reflection_prompt | llm\n",
        "\n",
        "reflection = \"\"\n",
        "for chunk in reflect.stream({\"messages\": [request, HumanMessage(content=article)]}):\n",
        "    print(chunk.content, end=\"\")\n",
        "    reflection += chunk.content"
      ],
      "metadata": {
        "colab": {
          "base_uri": "https://localhost:8080/"
        },
        "id": "qZjc7npkMsEN",
        "outputId": "57d6abf0-469d-479c-ca62-cd54236098f9"
      },
      "execution_count": 30,
      "outputs": [
        {
          "output_type": "stream",
          "name": "stdout",
          "text": [
            "**Grade:** B+ (87%)\n",
            "\n",
            "**Critique:**\n",
            "\n",
            "The article provides a good overview of the evolution of AI agent architecture, but it lacks depth and detail in certain areas. Here are some specific criticisms and recommendations for improvement:\n",
            "\n",
            "1. **Length:** The article is a bit too short, and some sections feel rushed. Consider expanding the article to at least 1,000-1,500 words to provide a more comprehensive overview.\n",
            "2. **Depth:** While the article provides a good high-level overview of AI agent architecture, it lacks depth in certain areas. For example, the article could benefit from more detailed explanations of machine learning and deep learning techniques, as well as more examples of how they are applied in AI agent architecture.\n",
            "3. **Style:** The article is written in a clear and concise style, but it could benefit from more engaging and descriptive language. Consider using more vivid metaphors and analogies to help readers understand complex concepts.\n",
            "4. **Organization:** The article could benefit from a clearer organization. Consider breaking the article into more sections or subsections to make it easier to follow.\n",
            "5. **References:** The article lacks references to support its claims and provide additional reading for readers. Consider adding a list of references or a bibliography to the article.\n",
            "\n",
            "**Recommendations:**\n",
            "\n",
            "1. **Expand the article:** Consider expanding the article to at least 1,000-1,500 words to provide a more comprehensive overview of AI agent architecture.\n",
            "2. **Add more depth:** Add more detailed explanations of machine learning and deep learning techniques, as well as more examples of how they are applied in AI agent architecture.\n",
            "3. **Use more engaging language:** Use more vivid metaphors and analogies to help readers understand complex concepts.\n",
            "4. **Improve organization:** Break the article into more sections or subsections to make it easier to follow.\n",
            "5. **Add references:** Add a list of references or a bibliography to the article to support its claims and provide additional reading for readers.\n",
            "\n",
            "**Specific Suggestions:**\n",
            "\n",
            "1. **Add a section on the benefits of modern AI agent architecture:** Consider adding a section that discusses the benefits of modern AI agent architecture, such as increased flexibility and adaptability.\n",
            "2. **Provide more examples of AI agent applications:** Consider adding more examples of AI agent applications, such as robotics, natural language processing, and computer vision.\n",
            "3. **Use diagrams or flowcharts:** Consider using diagrams or flowcharts to help illustrate the different components of AI"
          ]
        }
      ]
    },
    {
      "cell_type": "code",
      "source": [
        "# Creating loop for repeat the task and get final output\n",
        "for chunk in generate.stream(\n",
        "    {\"messages\": [request, AIMessage(content=article), HumanMessage(content=reflection)]}   # we are mimicking reflection agent as Human but in real it is AI agent\n",
        "):\n",
        "    print(chunk.content, end=\"\")"
      ],
      "metadata": {
        "colab": {
          "base_uri": "https://localhost:8080/"
        },
        "id": "ozSWeTJeOPqP",
        "outputId": "e9467b74-f98d-4f7f-f89c-c92d15342d4d"
      },
      "execution_count": 31,
      "outputs": [
        {
          "output_type": "stream",
          "name": "stdout",
          "text": [
            "**Refined Article: The Evolution of AI Agent Architecture: A Comprehensive Overview**\n",
            "\n",
            "**Introduction**\n",
            "\n",
            "Artificial Intelligence (AI) has revolutionized the way we interact with technology, and AI agents are at the heart of this revolution. An AI agent is a software program that perceives its environment, processes information, and takes actions to achieve its goals. From the early days of rule-based systems to the modern era of machine learning and deep learning, AI agent architecture has undergone significant transformations. In this article, we will delve into the evolution of AI agent architecture, exploring the key components that make up a modern AI agent and the benefits of this new paradigm.\n",
            "\n",
            "**Traditional AI Agent Architecture**\n",
            "\n",
            "The traditional AI agent architecture is based on the Agent-Environment Interaction model, which consists of three main components: Perception, Action, and Knowledge. Perception involves sensing the environment and extracting relevant information, while Action involves taking decisions and executing actions. Knowledge is the repository of information that the agent uses to reason and make decisions. This traditional architecture has been used in various applications, including expert systems, rule-based systems, and decision support systems. However, it has limitations, such as being brittle and inflexible, and requiring extensive hand-coding.\n",
            "\n",
            "**The Rise of Machine Learning and Deep Learning**\n",
            "\n",
            "The advent of machine learning and deep learning techniques has revolutionized the field of AI agent architecture. Machine learning algorithms enable agents to learn from experience and adapt to changing environments, while deep learning techniques allow agents to learn complex patterns and relationships in data. This new paradigm has enabled the development of sophisticated AI agents that can interact with humans and other systems in more natural and intuitive ways. Modern AI agent architecture incorporates machine learning and deep learning techniques, enabling agents to learn from data and adapt to changing environments.\n",
            "\n",
            "**Components of Modern AI Agent Architecture**\n",
            "\n",
            "Modern AI agent architecture consists of several key components, including:\n",
            "\n",
            "1. **Perception:** Perception involves sensing the environment and extracting relevant information. This can be achieved through various means, including sensors, data sources, and machine learning algorithms.\n",
            "2. **Action:** Action involves taking decisions and executing actions. This can be achieved through various means, including decision-making algorithms, control systems, and actuators.\n",
            "3. **Knowledge:** Knowledge is the repository of information that the agent uses to reason and make decisions. This can be achieved through various means, including knowledge bases, databases, and machine learning models.\n",
            "4. **Learning:** Learning involves using machine learning algorithms to update the agent's knowledge and"
          ]
        }
      ]
    },
    {
      "cell_type": "code",
      "source": [
        "# Building graph for basic reflection archotecture, as we did in isolation above\n",
        "\n",
        "from typing import Annotated, List, Sequence\n",
        "from langgraph.graph import END, StateGraph, START\n",
        "from langgraph.graph.message import add_messages\n",
        "from langgraph.checkpoint.memory import MemorySaver\n",
        "from typing_extensions import TypedDict\n",
        "\n",
        "\n",
        "class State(TypedDict):\n",
        "    messages: Annotated[list, add_messages]\n",
        "\n",
        "\n",
        "async def generation_node(state: State) -> State:\n",
        "    return {\"messages\": [await generate.ainvoke(state[\"messages\"])]}\n",
        "\n",
        "\n",
        "async def reflection_node(state: State) -> State:\n",
        "    # Other messages we need to adjust\n",
        "    cls_map = {\"ai\": HumanMessage, \"human\": AIMessage}\n",
        "    # First message is the original user request. We hold it the same for all nodes\n",
        "    translated = [state[\"messages\"][0]] + [\n",
        "        cls_map[msg.type](content=msg.content) for msg in state[\"messages\"][1:]\n",
        "    ]\n",
        "    res = await reflect.ainvoke(translated)\n",
        "    # We treat the output of this as human feedback for the generator\n",
        "    return {\"messages\": [HumanMessage(content=res.content)]}\n",
        "\n",
        "builder = StateGraph(State)\n",
        "builder.add_node(\"generate\", generation_node)\n",
        "builder.add_node(\"reflect\", reflection_node)\n",
        "builder.add_edge(START, \"generate\")\n",
        "\n",
        "def should_continue(state: State):\n",
        "    if len(state[\"messages\"]) > 2:\n",
        "        # End after 3 iterations\n",
        "        return END\n",
        "    return \"reflect\"\n",
        "\n",
        "\n",
        "builder.add_conditional_edges(\"generate\", should_continue)\n",
        "builder.add_edge(\"reflect\", \"generate\")\n",
        "memory = MemorySaver()\n",
        "graph = builder.compile(checkpointer=memory)"
      ],
      "metadata": {
        "id": "zYGuMlbTOiM8"
      },
      "execution_count": 34,
      "outputs": []
    },
    {
      "cell_type": "markdown",
      "source": [
        "- `StateGraph` use if app require complex state management\n",
        "- `MessageGraph` use if we want single conversational flow and simple routing decidion\n",
        "\n",
        "- These are the classes langgraph provided to orchesterate the converational flow between different nodes.\n",
        "- `messagegraph` maintain the list of messages and decided the flow of these messages netween nodes.\n",
        "- Every node receive the list of previous messages.\n",
        "- Each node can append the new message to the list and return it.\n"
      ],
      "metadata": {
        "id": "Clyhs0FynbAJ"
      }
    },
    {
      "cell_type": "markdown",
      "source": [
        "Sure! Let's break down the `reflection_node` function in simpler terms:\n",
        "\n",
        "### Purpose of the Function\n",
        "The `reflection_node` function is designed to take the existing messages, translate them into a format that the reflection process can understand, and then generate a response based on that.\n",
        "\n",
        "### Step-by-Step Explanation\n",
        "\n",
        "1. **Mapping Message Types**:\n",
        "   ```python\n",
        "   cls_map = {\"ai\": HumanMessage, \"human\": AIMessage}\n",
        "   ```\n",
        "   - Here, we create a dictionary called `cls_map` that tells us how to convert messages based on who sent them:\n",
        "     - Messages from the AI are treated as `HumanMessage`.\n",
        "     - Messages from the human are treated as `AIMessage`.\n",
        "\n",
        "2. **Translating Messages**:\n",
        "   ```python\n",
        "   translated = [state[\"messages\"][0]] + [\n",
        "       cls_map[msg.type](content=msg.content) for msg in state[\"messages\"][1:]\n",
        "   ]\n",
        "   ```\n",
        "   - We start with the first message (the original user request) and keep it the same.\n",
        "   - For the rest of the messages, we use the `cls_map` to convert them:\n",
        "     - If a message is from the AI, it becomes a `HumanMessage`.\n",
        "     - If it’s from the human, it becomes an `AIMessage`.\n",
        "   - This creates a new list called `translated` that prepares the messages for the reflection process.\n",
        "\n",
        "3. **Generating a Response**:\n",
        "   ```python\n",
        "   res = await reflect.ainvoke(translated)\n",
        "   ```\n",
        "   - We send the translated messages to the reflection process (`reflect.ainvoke`), which generates a response based on them.\n",
        "   - The `await` keyword allows the program to wait for this process to finish without blocking other tasks.\n",
        "\n",
        "4. **Returning the Response**:\n",
        "   ```python\n",
        "   return {\"messages\": [HumanMessage(content=res.content)]}\n",
        "   ```\n",
        "   - Finally, we wrap the response from the reflection process in a `HumanMessage` and return it in a dictionary format.\n",
        "\n",
        "### Summary\n",
        "The `reflection_node` function takes the existing messages, translates them into a suitable format for reflection, generates a new response based on that, and returns it. This helps create a more meaningful interaction between the user and the AI by reflecting on the conversation so far."
      ],
      "metadata": {
        "id": "8CUu1OB3-60n"
      }
    },
    {
      "cell_type": "code",
      "source": [
        "\n",
        "config = {\"configurable\": {\"thread_id\": \"1\"}}"
      ],
      "metadata": {
        "id": "5jLZDinYSSzj"
      },
      "execution_count": 35,
      "outputs": []
    },
    {
      "cell_type": "code",
      "source": [
        "\n",
        "async for event in graph.astream(\n",
        "    {\n",
        "        \"messages\": [\n",
        "            HumanMessage(\n",
        "                content=\"Generate an article on AI agent design pattern\"\n",
        "            )\n",
        "        ],\n",
        "    },\n",
        "    config,\n",
        "):\n",
        "    print(event)\n",
        "    print(\"---\")\n"
      ],
      "metadata": {
        "colab": {
          "base_uri": "https://localhost:8080/"
        },
        "id": "Vi7AJJzSaUhv",
        "outputId": "6f496c31-06b6-4354-b945-d9cdb81fd205"
      },
      "execution_count": 36,
      "outputs": [
        {
          "output_type": "stream",
          "name": "stdout",
          "text": [
            "{'generate': {'messages': [AIMessage(content=\"**Designing AI Agents: A Comprehensive Guide to the AI Agent Pattern**\\n\\nArtificial intelligence (AI) has revolutionized the way we interact with machines, and AI agents are at the forefront of this revolution. An AI agent is a software program that perceives its environment, takes actions, and learns from its experiences to achieve a specific goal. In this article, we will delve into the design pattern of AI agents, exploring the key components, benefits, and applications of this powerful paradigm.\\n\\nAt its core, an AI agent consists of three primary components: perception, reasoning, and action. **Perception** involves the agent's ability to gather information from its environment, whether through sensors, APIs, or other data sources. **Reasoning** is the agent's decision-making process, which can be based on rules, machine learning algorithms, or hybrid approaches. Finally, **action** refers to the agent's ability to take actions in its environment, such as sending a message, making a purchase, or controlling a robot. By combining these components, AI agents can navigate complex environments, adapt to changing circumstances, and learn from their experiences.\\n\\nThe AI agent design pattern offers numerous benefits, including increased flexibility, scalability, and maintainability. By decoupling perception, reasoning, and action, developers can easily modify or replace individual components without affecting the entire system. Additionally, AI agents can be designed to learn from their experiences, allowing them to improve their performance over time. Applications of AI agents abound, from customer service chatbots and virtual assistants to autonomous vehicles and smart home systems. As AI continues to advance, the AI agent design pattern will play a crucial role in shaping the future of intelligent systems.\\n\\n**Refined Version (After Critique)**\\n\\n**Designing AI Agents: A Comprehensive Guide to the AI Agent Pattern**\\n\\nArtificial intelligence (AI) has transformed the way we interact with machines, and AI agents are at the forefront of this revolution. An AI agent is a software program that perceives its environment, takes actions, and learns from its experiences to achieve a specific goal. In this article, we will explore the design pattern of AI agents, highlighting the key components, benefits, and applications of this powerful paradigm.\\n\\nAt its core, an AI agent consists of three primary components: **perception**, **reasoning**, and **action**. **Perception** involves the agent's ability to gather information from its environment, whether through sensors, APIs, or other data sources. **\", additional_kwargs={}, response_metadata={'token_usage': {'completion_tokens': 500, 'prompt_tokens': 79, 'total_tokens': 579, 'completion_time': 0.666666667, 'prompt_time': 0.003459717, 'queue_time': 0.210150789, 'total_time': 0.670126384}, 'model_name': 'llama-3.1-8b-instant', 'system_fingerprint': 'fp_f7bd09b454', 'finish_reason': 'length', 'logprobs': None}, id='run-bbcc6a70-253f-420c-abb6-e789dad79b4e-0', usage_metadata={'input_tokens': 79, 'output_tokens': 500, 'total_tokens': 579})]}}\n",
            "---\n",
            "{'reflect': {'messages': [HumanMessage(content='**Article Critique**\\n\\n**Grade:** B+\\n\\n**Strengths:**\\n\\n1. The article provides a clear and concise introduction to the concept of AI agents and their design pattern.\\n2. The author highlights the key components of an AI agent (perception, reasoning, and action) and explains their roles.\\n3. The article mentions the benefits of the AI agent design pattern, including increased flexibility, scalability, and maintainability.\\n4. The author provides some examples of applications of AI agents.\\n\\n**Weaknesses:**\\n\\n1. The article lacks depth and detail in explaining the AI agent design pattern.\\n2. The author does not provide enough information about the perception component, such as how it gathers information from the environment.\\n3. The reasoning component is not fully explained, including the different decision-making approaches (rules, machine learning algorithms, or hybrid approaches).\\n4. The article does not provide a clear example of how the AI agent design pattern is implemented in practice.\\n5. The writing style is somewhat generic and lacks engagement.\\n6. The article could benefit from more technical details and code examples to illustrate the concepts.\\n\\n**Recommendations:**\\n\\n1. **Length:** The article is too short and lacks depth. Consider expanding the article to 1,000-1,500 words to provide more detail and examples.\\n2. **Depth:** Provide more technical details about the perception and reasoning components, including examples of how they are implemented.\\n3. **Style:** Use a more engaging writing style, including anecdotes, examples, and analogies to illustrate the concepts.\\n4. **Technical details:** Include code examples or pseudo-code to illustrate the AI agent design pattern in practice.\\n5. **Additional examples:** Provide more examples of AI agent applications, including real-world case studies.\\n6. **References:** Include references to relevant research papers, books, or articles to support the claims made in the article.\\n\\n**Specific Suggestions:**\\n\\n1. In the perception component section, provide more detail about how the agent gathers information from the environment, including examples of sensors, APIs, or other data sources.\\n2. In the reasoning component section, explain the different decision-making approaches (rules, machine learning algorithms, or hybrid approaches) and provide examples of how they are used in practice.\\n3. Provide a clear example of how the AI agent design pattern is implemented in practice, including code or pseudo-code.\\n4. Use a more engaging writing style, including anecdotes, examples, and analogies to illustrate the concepts.\\n', additional_kwargs={}, response_metadata={}, id='f5d3e390-3dac-4c2f-9711-30f8e7d5a7ea')]}}\n",
            "---\n",
            "{'generate': {'messages': [AIMessage(content=\"**Refined Version (After Critique)**\\n\\n**Designing AI Agents: A Comprehensive Guide to the AI Agent Pattern**\\n\\nArtificial intelligence (AI) has transformed the way we interact with machines, and AI agents are at the forefront of this revolution. An AI agent is a software program that perceives its environment, takes actions, and learns from its experiences to achieve a specific goal. In this article, we will delve into the design pattern of AI agents, exploring the key components, benefits, and applications of this powerful paradigm.\\n\\n**Perception: Gathering Information from the Environment**\\n\\nAt its core, an AI agent consists of three primary components: perception, reasoning, and action. **Perception** is the agent's ability to gather information from its environment, whether through sensors, APIs, or other data sources. For example, a self-driving car uses cameras, lidar, and radar sensors to perceive its surroundings, including other vehicles, pedestrians, and road markings. Similarly, a chatbot may use natural language processing (NLP) to gather information from user input, such as text or voice commands.\\n\\nTo illustrate the perception component, let's consider an example of a simple sensor-based AI agent. Suppose we want to build an AI agent that monitors the temperature and humidity in a greenhouse. We can use a temperature sensor and a humidity sensor to gather information from the environment. The agent can then use this information to decide whether to turn on a heating or cooling system to maintain a comfortable temperature for the plants.\\n\\n**Reasoning: Decision-Making Approaches**\\n\\nThe **reasoning** component is the agent's decision-making process, which can be based on rules, machine learning algorithms, or hybrid approaches. In the context of our greenhouse example, we can use a simple rule-based system to decide whether to turn on the heating or cooling system. For example, if the temperature is below 60°F, the agent can turn on the heating system. If the temperature is above 80°F, the agent can turn on the cooling system.\\n\\nHowever, in more complex scenarios, machine learning algorithms can be used to improve the agent's decision-making process. For instance, a machine learning-based AI agent can learn from historical data to predict the optimal temperature and humidity levels for the greenhouse, taking into account factors such as the time of day, season, and weather forecast.\\n\\n**Action: Taking Actions in the Environment**\\n\\nThe **action** component refers to the agent's ability to take actions in its\", additional_kwargs={}, response_metadata={'token_usage': {'completion_tokens': 500, 'prompt_tokens': 1089, 'total_tokens': 1589, 'completion_time': 0.666666667, 'prompt_time': 0.034786722, 'queue_time': 0.234505552, 'total_time': 0.701453389}, 'model_name': 'llama-3.1-8b-instant', 'system_fingerprint': 'fp_a4265e44d5', 'finish_reason': 'length', 'logprobs': None}, id='run-80697664-04f1-4a74-ab57-3949dbcf171e-0', usage_metadata={'input_tokens': 1089, 'output_tokens': 500, 'total_tokens': 1589})]}}\n",
            "---\n"
          ]
        }
      ]
    },
    {
      "cell_type": "code",
      "source": [
        "\n",
        "state = graph.get_state(config)"
      ],
      "metadata": {
        "id": "6d3sXV3maWcE"
      },
      "execution_count": 37,
      "outputs": []
    },
    {
      "cell_type": "code",
      "source": [
        "\n",
        "ChatPromptTemplate.from_messages(state.values[\"messages\"]).pretty_print()"
      ],
      "metadata": {
        "colab": {
          "base_uri": "https://localhost:8080/"
        },
        "id": "zQ6E4I-bbsra",
        "outputId": "1d57792f-ccdc-432e-b053-472ae22148f6"
      },
      "execution_count": 38,
      "outputs": [
        {
          "output_type": "stream",
          "name": "stdout",
          "text": [
            "================================\u001b[1m Human Message \u001b[0m=================================\n",
            "\n",
            "Generate an article on AI agent design pattern\n",
            "\n",
            "==================================\u001b[1m Ai Message \u001b[0m==================================\n",
            "\n",
            "**Designing AI Agents: A Comprehensive Guide to the AI Agent Pattern**\n",
            "\n",
            "Artificial intelligence (AI) has revolutionized the way we interact with machines, and AI agents are at the forefront of this revolution. An AI agent is a software program that perceives its environment, takes actions, and learns from its experiences to achieve a specific goal. In this article, we will delve into the design pattern of AI agents, exploring the key components, benefits, and applications of this powerful paradigm.\n",
            "\n",
            "At its core, an AI agent consists of three primary components: perception, reasoning, and action. **Perception** involves the agent's ability to gather information from its environment, whether through sensors, APIs, or other data sources. **Reasoning** is the agent's decision-making process, which can be based on rules, machine learning algorithms, or hybrid approaches. Finally, **action** refers to the agent's ability to take actions in its environment, such as sending a message, making a purchase, or controlling a robot. By combining these components, AI agents can navigate complex environments, adapt to changing circumstances, and learn from their experiences.\n",
            "\n",
            "The AI agent design pattern offers numerous benefits, including increased flexibility, scalability, and maintainability. By decoupling perception, reasoning, and action, developers can easily modify or replace individual components without affecting the entire system. Additionally, AI agents can be designed to learn from their experiences, allowing them to improve their performance over time. Applications of AI agents abound, from customer service chatbots and virtual assistants to autonomous vehicles and smart home systems. As AI continues to advance, the AI agent design pattern will play a crucial role in shaping the future of intelligent systems.\n",
            "\n",
            "**Refined Version (After Critique)**\n",
            "\n",
            "**Designing AI Agents: A Comprehensive Guide to the AI Agent Pattern**\n",
            "\n",
            "Artificial intelligence (AI) has transformed the way we interact with machines, and AI agents are at the forefront of this revolution. An AI agent is a software program that perceives its environment, takes actions, and learns from its experiences to achieve a specific goal. In this article, we will explore the design pattern of AI agents, highlighting the key components, benefits, and applications of this powerful paradigm.\n",
            "\n",
            "At its core, an AI agent consists of three primary components: **perception**, **reasoning**, and **action**. **Perception** involves the agent's ability to gather information from its environment, whether through sensors, APIs, or other data sources. **\n",
            "\n",
            "================================\u001b[1m Human Message \u001b[0m=================================\n",
            "\n",
            "**Article Critique**\n",
            "\n",
            "**Grade:** B+\n",
            "\n",
            "**Strengths:**\n",
            "\n",
            "1. The article provides a clear and concise introduction to the concept of AI agents and their design pattern.\n",
            "2. The author highlights the key components of an AI agent (perception, reasoning, and action) and explains their roles.\n",
            "3. The article mentions the benefits of the AI agent design pattern, including increased flexibility, scalability, and maintainability.\n",
            "4. The author provides some examples of applications of AI agents.\n",
            "\n",
            "**Weaknesses:**\n",
            "\n",
            "1. The article lacks depth and detail in explaining the AI agent design pattern.\n",
            "2. The author does not provide enough information about the perception component, such as how it gathers information from the environment.\n",
            "3. The reasoning component is not fully explained, including the different decision-making approaches (rules, machine learning algorithms, or hybrid approaches).\n",
            "4. The article does not provide a clear example of how the AI agent design pattern is implemented in practice.\n",
            "5. The writing style is somewhat generic and lacks engagement.\n",
            "6. The article could benefit from more technical details and code examples to illustrate the concepts.\n",
            "\n",
            "**Recommendations:**\n",
            "\n",
            "1. **Length:** The article is too short and lacks depth. Consider expanding the article to 1,000-1,500 words to provide more detail and examples.\n",
            "2. **Depth:** Provide more technical details about the perception and reasoning components, including examples of how they are implemented.\n",
            "3. **Style:** Use a more engaging writing style, including anecdotes, examples, and analogies to illustrate the concepts.\n",
            "4. **Technical details:** Include code examples or pseudo-code to illustrate the AI agent design pattern in practice.\n",
            "5. **Additional examples:** Provide more examples of AI agent applications, including real-world case studies.\n",
            "6. **References:** Include references to relevant research papers, books, or articles to support the claims made in the article.\n",
            "\n",
            "**Specific Suggestions:**\n",
            "\n",
            "1. In the perception component section, provide more detail about how the agent gathers information from the environment, including examples of sensors, APIs, or other data sources.\n",
            "2. In the reasoning component section, explain the different decision-making approaches (rules, machine learning algorithms, or hybrid approaches) and provide examples of how they are used in practice.\n",
            "3. Provide a clear example of how the AI agent design pattern is implemented in practice, including code or pseudo-code.\n",
            "4. Use a more engaging writing style, including anecdotes, examples, and analogies to illustrate the concepts.\n",
            "\n",
            "\n",
            "==================================\u001b[1m Ai Message \u001b[0m==================================\n",
            "\n",
            "**Refined Version (After Critique)**\n",
            "\n",
            "**Designing AI Agents: A Comprehensive Guide to the AI Agent Pattern**\n",
            "\n",
            "Artificial intelligence (AI) has transformed the way we interact with machines, and AI agents are at the forefront of this revolution. An AI agent is a software program that perceives its environment, takes actions, and learns from its experiences to achieve a specific goal. In this article, we will delve into the design pattern of AI agents, exploring the key components, benefits, and applications of this powerful paradigm.\n",
            "\n",
            "**Perception: Gathering Information from the Environment**\n",
            "\n",
            "At its core, an AI agent consists of three primary components: perception, reasoning, and action. **Perception** is the agent's ability to gather information from its environment, whether through sensors, APIs, or other data sources. For example, a self-driving car uses cameras, lidar, and radar sensors to perceive its surroundings, including other vehicles, pedestrians, and road markings. Similarly, a chatbot may use natural language processing (NLP) to gather information from user input, such as text or voice commands.\n",
            "\n",
            "To illustrate the perception component, let's consider an example of a simple sensor-based AI agent. Suppose we want to build an AI agent that monitors the temperature and humidity in a greenhouse. We can use a temperature sensor and a humidity sensor to gather information from the environment. The agent can then use this information to decide whether to turn on a heating or cooling system to maintain a comfortable temperature for the plants.\n",
            "\n",
            "**Reasoning: Decision-Making Approaches**\n",
            "\n",
            "The **reasoning** component is the agent's decision-making process, which can be based on rules, machine learning algorithms, or hybrid approaches. In the context of our greenhouse example, we can use a simple rule-based system to decide whether to turn on the heating or cooling system. For example, if the temperature is below 60°F, the agent can turn on the heating system. If the temperature is above 80°F, the agent can turn on the cooling system.\n",
            "\n",
            "However, in more complex scenarios, machine learning algorithms can be used to improve the agent's decision-making process. For instance, a machine learning-based AI agent can learn from historical data to predict the optimal temperature and humidity levels for the greenhouse, taking into account factors such as the time of day, season, and weather forecast.\n",
            "\n",
            "**Action: Taking Actions in the Environment**\n",
            "\n",
            "The **action** component refers to the agent's ability to take actions in its\n"
          ]
        }
      ]
    },
    {
      "cell_type": "code",
      "source": [],
      "metadata": {
        "id": "a8n5LbVNbuo4"
      },
      "execution_count": null,
      "outputs": []
    }
  ]
}